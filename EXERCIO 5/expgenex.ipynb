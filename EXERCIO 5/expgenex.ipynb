{
  "nbformat": 4,
  "nbformat_minor": 0,
  "metadata": {
    "colab": {
      "provenance": []
    },
    "kernelspec": {
      "name": "python3",
      "display_name": "Python 3"
    },
    "language_info": {
      "name": "python"
    }
  },
  "cells": [
    {
      "cell_type": "code",
      "execution_count": null,
      "metadata": {
        "id": "rO5XoQvfBmbM"
      },
      "outputs": [],
      "source": [
        "!pip install numpy\n",
        "!pip install matplotlib"
      ]
    },
    {
      "cell_type": "code",
      "source": [
        "import numpy as np\n",
        "import matplotlib.pyplot as plt\n",
        "\n",
        "\n",
        "N=10000\n",
        "lambda1=1/28\n",
        "x=np.random.uniform(0,1,N)\n",
        "value=4\n",
        "Xexp=-np.log(x)/lambda1\n",
        "count=0\n",
        "print(Xexp)\n",
        "\n",
        "\n",
        "for expvalue in Xexp:\n",
        "    if expvalue<=value:\n",
        "        count=count+1\n",
        "prob=count/N\n",
        "print(\"a probabilidade e\",prob)\n",
        "\n",
        "Probana=1-np.exp(-lambda1*value)\n",
        "print(\"a probabilidade analítica e\",Probana)"
      ],
      "metadata": {
        "id": "lJKIMUqgBt3E",
        "outputId": "4f56bee7-57d2-4745-d3ed-6fb1c5496dc7",
        "colab": {
          "base_uri": "https://localhost:8080/"
        }
      },
      "execution_count": 1,
      "outputs": [
        {
          "output_type": "stream",
          "name": "stdout",
          "text": [
            "[ 4.28381245  7.34056255 41.05412202 ... 31.75020113  9.68483661\n",
            "  0.18827403]\n",
            "a probabilidade e 0.1316\n",
            "a probabilidade analítica e 0.1331221002498184\n"
          ]
        }
      ]
    }
  ]
}