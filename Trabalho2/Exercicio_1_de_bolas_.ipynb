{
  "nbformat": 4,
  "nbformat_minor": 0,
  "metadata": {
    "colab": {
      "provenance": [],
      "authorship_tag": "ABX9TyMITze82ESt0IeN2qHDV+YN",
      "include_colab_link": true
    },
    "kernelspec": {
      "name": "python3",
      "display_name": "Python 3"
    },
    "language_info": {
      "name": "python"
    }
  },
  "cells": [
    {
      "cell_type": "markdown",
      "metadata": {
        "id": "view-in-github",
        "colab_type": "text"
      },
      "source": [
        "<a href=\"https://colab.research.google.com/github/PRIESTLEY4/principos-de-de-simulacao-de-comunicacao/blob/main/Trabalho2/Exercicio_1_de_bolas_.ipynb\" target=\"_parent\"><img src=\"https://colab.research.google.com/assets/colab-badge.svg\" alt=\"Open In Colab\"/></a>"
      ]
    },
    {
      "cell_type": "code",
      "execution_count": 6,
      "metadata": {
        "colab": {
          "base_uri": "https://localhost:8080/"
        },
        "id": "-tqj5AC2a-02",
        "outputId": "64563a8a-90a7-44bc-fdeb-fe9b41c67b51"
      },
      "outputs": [
        {
          "output_type": "stream",
          "name": "stdout",
          "text": [
            "0.26623\n"
          ]
        }
      ],
      "source": [
        "import numpy as np\n",
        "\n",
        "\n",
        "N=100000\n",
        "keep_prob= False # as bolas nao sao respostas\n",
        "evento=np.array([])\n",
        "for executions in range(0,N):\n",
        "   Bolas_azuis = 10 # numero inicial de bolas azuis\n",
        "   Bolas_roxas = 10 # numero inicial de bolas roxas\n",
        "   outras_cores = 20 # numero inicial de bolas de outras cores\n",
        "   Total_bolas= 40 # total de bolas no chapeu\n",
        "   contador_azul= 0 # inicializa o contador de bolas azuis\n",
        "   contador_roxa= 0 # inicializa o contador de bolas roxas\n",
        "   for Bola in range(0,10): #a gente tem que escolher 10 bolas aleatorios\n",
        "        if keep_prob == True: # as bolas sao respostas\n",
        "          Bolas_azuis = 10 # numero inicial de bolas azuis\n",
        "          Bolas_roxas= 10 # numero inicial de bolas roxas\n",
        "          outras_cores= 20 # numero inicial de bolas de outras cores\n",
        "        Total_bolas= Bolas_azuis + Bolas_roxas + outras_cores # soma de todas as bolas\n",
        "        Cor_bola = np.random.uniform(0, 1) #Gera um numero aleatorio entre 0 e 1\n",
        "        #para representar a cor da bola\n",
        "        if Cor_bola <= Bolas_azuis / Total_bolas :# se cor_bola for menor o igual\n",
        "        # a bolas_azuis dividido por total_bolas,escolhe uma bola azul\n",
        "          Bolas_azuis = Bolas_azuis - 1 #saiu uma bola azul de bolas azuis disponiveis\n",
        "          contador_azul= contador_azul + 1 #incrementa o contador de bolas azuis em 1\n",
        "          # lembre_se que a gente tem que escolher duas bolas azuis ao finalizar as 10\n",
        "          #escolhidas de bolas\n",
        "        elif Cor_bola<= (Bolas_azuis + Bolas_roxas)/Total_bolas: # se cor_bola for menor\n",
        "        #ou igual a bolas_roxas dividido por total_bolas,escolhe uma bola roxa\n",
        "          Bolas_roxas= Bolas_roxas - 1 # saiu uma bola roxa de bolas roxas disponiveis\n",
        "          contador_roxa= contador_roxa + 1#incrementa o contador de bolas roxas em 1\n",
        "        else:\n",
        "          outras_cores= outras_cores - 1 # bola escolhida e diferente de azul e roxa\n",
        "          if Bola==9:\n",
        "            if contador_azul>=2 and contador_roxa >=2: #na escolhida das 10 bolas,verifica\n",
        "            #se pelo menos 2 bolas azuis e 2 bolas roxas foram escolhidas\n",
        "              evento = np.append(evento, 1)# se a condicao e verdadeira ,adiciona 1 ao array evento\n",
        "            else:\n",
        "                evento = np.append(evento, 0)# caso contario ,adiciona 0 ao array evento\n",
        "evento_1=0 # inicializacao da variavel com o valor 0\n",
        "for check in evento == 1:#itera sobre cada elemento do array evento e verifica\n",
        "#se cada elemento e igual a 1\n",
        "     if check == 1:#verifica se o evento aconteceu\n",
        "         evento_1 = evento_1 + 1 # incrementa a variavel\n",
        "probabilidade = evento_1 / N\n",
        "print(probabilidade)"
      ]
    }
  ]
}