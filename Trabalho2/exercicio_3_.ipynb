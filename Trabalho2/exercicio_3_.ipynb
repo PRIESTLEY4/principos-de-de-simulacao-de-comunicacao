{
  "nbformat": 4,
  "nbformat_minor": 0,
  "metadata": {
    "colab": {
      "provenance": [],
      "authorship_tag": "ABX9TyPDXrlYGqCtID32zNCajfD1",
      "include_colab_link": true
    },
    "kernelspec": {
      "name": "python3",
      "display_name": "Python 3"
    },
    "language_info": {
      "name": "python"
    }
  },
  "cells": [
    {
      "cell_type": "markdown",
      "metadata": {
        "id": "view-in-github",
        "colab_type": "text"
      },
      "source": [
        "<a href=\"https://colab.research.google.com/github/PRIESTLEY4/principos-de-de-simulacao-de-comunicacao/blob/main/Trabalho2/exercicio_3_.ipynb\" target=\"_parent\"><img src=\"https://colab.research.google.com/assets/colab-badge.svg\" alt=\"Open In Colab\"/></a>"
      ]
    },
    {
      "cell_type": "code",
      "execution_count": 2,
      "metadata": {
        "colab": {
          "base_uri": "https://localhost:8080/"
        },
        "id": "0aUdcTdhlvDO",
        "outputId": "b322d73b-8c14-48d4-be0f-4a80169193c3"
      },
      "outputs": [
        {
          "output_type": "stream",
          "name": "stdout",
          "text": [
            "Infelizment,voce perde seu investimento a longo prazo\n",
            "conta -3752\n",
            "a soma dos dados foram menor que 9 568\n",
            "a soma dos dados foram maior ou igual a 9 9432\n"
          ]
        }
      ],
      "source": [
        "import numpy as np\n",
        "import matplotlib.pyplot as plt\n",
        "\n",
        "N = 10000\n",
        "\n",
        "dado_1= np.random.randint(1,7,N)\n",
        "dado_2= np.random.randint(1,7,N)\n",
        "dado_3= np.random.randint(1,7,N)\n",
        "dado_4= np.random.randint(1,7,N)\n",
        "\n",
        "i = 1 #uma variavel de iteracao para fazer uso depois\n",
        "#boa pratica de programacao\n",
        "r = 10# o valor que a gente ganha se a soma dos dados for\n",
        "#menor que 9 em realidade voce ganha 9 reais\n",
        "investimento= 1 # o valor que voce aposta cada vez que voce vai jogar\n",
        "quantidade1 = 0 # conta quantas vezes a soma dos dados e menor que 9\n",
        "quantidade2 = 0# conta quantas vezes que a soma dos dados  e maior que 9\n",
        "conta = 0# a gente inicializa a variavel conta\n",
        "\n",
        "for i in range (0, N):# itera cada vez que a gente joga\n",
        "\n",
        "        soma = dado_1[i]+dado_2[i]+dado_3[i]+dado_4[i]  # se calcula a soma\n",
        "        #dos valores dos 4 dados cada vez que joga\n",
        "\n",
        "        if (soma < 9): # se a soma for menor que 9,aumenta quantidade1 e\n",
        "        # a ddiciona r a sua conta(voce ganha)\n",
        "                quantidade1 = quantidade1 + 1\n",
        "                conta = conta + r\n",
        "        if (soma >= 9):# se a soma for maior ou igual a 9,aumenta quantidade2 e\n",
        "        # subtrai investimento de conta(valor negativo)\n",
        "                quantidade2 = quantidade2 + 1\n",
        "                conta = conta - investimento\n",
        "\n",
        "\n",
        "        i = i + 1\n",
        "# verificando o valor de conta pata toma de decisoes\n",
        "if (conta < 0):\n",
        "        print (\"Infelizment,voce perde seu investimento a longo prazo\")\n",
        "\n",
        "if (conta > 0):\n",
        "        print (\"Opa! voce ganha seu investimento ao longo prazo\")\n",
        "\n",
        "if (conta == 0):\n",
        "        print (\"hmmm,voce nem ganha nem perde\")\n",
        "\n",
        "print(\"conta\",conta)\n",
        "print(\"a soma dos dados foram menor que 9\", quantidade1)\n",
        "print(\"a soma dos dados foram maior ou igual a 9\", quantidade2)\n"
      ]
    }
  ]
}