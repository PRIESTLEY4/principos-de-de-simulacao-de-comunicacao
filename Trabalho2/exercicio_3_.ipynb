{
  "nbformat": 4,
  "nbformat_minor": 0,
  "metadata": {
    "colab": {
      "provenance": [],
      "authorship_tag": "ABX9TyOEmkxohSOwrnk/b7tpFUI/",
      "include_colab_link": true
    },
    "kernelspec": {
      "name": "python3",
      "display_name": "Python 3"
    },
    "language_info": {
      "name": "python"
    }
  },
  "cells": [
    {
      "cell_type": "markdown",
      "metadata": {
        "id": "view-in-github",
        "colab_type": "text"
      },
      "source": [
        "<a href=\"https://colab.research.google.com/github/PRIESTLEY4/principos-de-de-simulacao-de-comunicacao/blob/main/Trabalho2/exercicio_3_.ipynb\" target=\"_parent\"><img src=\"https://colab.research.google.com/assets/colab-badge.svg\" alt=\"Open In Colab\"/></a>"
      ]
    },
    {
      "cell_type": "code",
      "execution_count": null,
      "metadata": {
        "colab": {
          "base_uri": "https://localhost:8080/",
          "height": 228
        },
        "id": "0aUdcTdhlvDO",
        "outputId": "d030745b-2d6f-4edc-d739-7646e79c70ab"
      },
      "outputs": [
        {
          "output_type": "stream",
          "name": "stdout",
          "text": [
            "Infelizment,voce perde seu investimento a longo prazo\n",
            "conta -4313\n"
          ]
        },
        {
          "output_type": "error",
          "ename": "NameError",
          "evalue": "name 'quant1' is not defined",
          "traceback": [
            "\u001b[0;31m---------------------------------------------------------------------------\u001b[0m",
            "\u001b[0;31mNameError\u001b[0m                                 Traceback (most recent call last)",
            "\u001b[0;32m<ipython-input-1-1182fc0679d5>\u001b[0m in \u001b[0;36m<cell line: 47>\u001b[0;34m()\u001b[0m\n\u001b[1;32m     45\u001b[0m \u001b[0;34m\u001b[0m\u001b[0m\n\u001b[1;32m     46\u001b[0m \u001b[0mprint\u001b[0m\u001b[0;34m(\u001b[0m\u001b[0;34m\"conta\"\u001b[0m\u001b[0;34m,\u001b[0m\u001b[0mconta\u001b[0m\u001b[0;34m)\u001b[0m\u001b[0;34m\u001b[0m\u001b[0;34m\u001b[0m\u001b[0m\n\u001b[0;32m---> 47\u001b[0;31m \u001b[0mprint\u001b[0m\u001b[0;34m(\u001b[0m\u001b[0;34m\"a soma dos dados foram menor que 9\"\u001b[0m\u001b[0;34m,\u001b[0m \u001b[0mquant1\u001b[0m\u001b[0;34m)\u001b[0m\u001b[0;34m\u001b[0m\u001b[0;34m\u001b[0m\u001b[0m\n\u001b[0m\u001b[1;32m     48\u001b[0m \u001b[0mprint\u001b[0m\u001b[0;34m(\u001b[0m\u001b[0;34m\"a soma dos dados foram maior ou igual a 9\"\u001b[0m\u001b[0;34m,\u001b[0m \u001b[0mquant2\u001b[0m\u001b[0;34m)\u001b[0m\u001b[0;34m\u001b[0m\u001b[0;34m\u001b[0m\u001b[0m\n",
            "\u001b[0;31mNameError\u001b[0m: name 'quant1' is not defined"
          ]
        }
      ],
      "source": [
        "import numpy as np\n",
        "import matplotlib.pyplot as plt\n",
        "\n",
        "N = 10000\n",
        "\n",
        "dado_1= np.random.randint(1,7,N)\n",
        "dado_2= np.random.randint(1,7,N)\n",
        "dado_3= np.random.randint(1,7,N)\n",
        "dado_4= np.random.randint(1,7,N)\n",
        "\n",
        "i = 1 #uma variavel de iteracao para fazer uso depois\n",
        "#boa pratica de programacao\n",
        "r = 10# o valor que a gente ganha se a soma dos dados for\n",
        "#menor que 9 em realidade voce ganha 9 reais\n",
        "investimento= 1 # o valor que voce aposta cada vez que voce vai jogar\n",
        "quantidade1 = 0 # conta quantas vezes a soma dos dados e menor que 9\n",
        "quantidade2 = 0# conta quantas vezes que a soma dos dados  e maior que 9\n",
        "conta = 0# a gente inicializa a variavel conta\n",
        "\n",
        "for i in range (0, N):# itera cada vez que a gente joga\n",
        "\n",
        "        soma = dado_1[i]+dado_2[i]+dado_3[i]+dado_4[i]  # se calcula a soma\n",
        "        #dos valores dos 4 dados cada vez que joga\n",
        "\n",
        "        if (soma < 9): # se a soma for menor que 9,aumenta quantidade1 e\n",
        "        # a ddiciona r a sua conta(voce ganha)\n",
        "                quantidade1 = quantidade1 + 1\n",
        "                conta = conta + r\n",
        "        if (soma >= 9):# se a soma for maior ou igual a 9,aumenta quantidade2 e\n",
        "        # subtrai investimento de conta(valor negativo)\n",
        "                quantidade2 = quantidade2 + 1\n",
        "                conta = conta - investimento\n",
        "\n",
        "\n",
        "        i = i + 1\n",
        "# verificando o valor de conta pata toma de decisoes\n",
        "if (conta < 0):\n",
        "        print (\"Infelizment,voce perde seu investimento a longo prazo\")\n",
        "\n",
        "if (conta > 0):\n",
        "        print (\"Opa! voce ganha seu investimento ao longo prazo\")\n",
        "\n",
        "if (conta == 0):\n",
        "        print (\"hmmm,voce nem ganha nem perde\")\n",
        "\n",
        "print(\"conta\",conta)\n",
        "print(\"a soma dos dados foram menor que 9\", quant1)\n",
        "print(\"a soma dos dados foram maior ou igual a 9\", quant2)\n"
      ]
    }
  ]
}