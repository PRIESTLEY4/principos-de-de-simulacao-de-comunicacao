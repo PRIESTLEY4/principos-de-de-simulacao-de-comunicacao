{
  "nbformat": 4,
  "nbformat_minor": 0,
  "metadata": {
    "colab": {
      "provenance": [],
      "authorship_tag": "ABX9TyPMZ7LGUeIk9RQAiarem12d",
      "include_colab_link": true
    },
    "kernelspec": {
      "name": "python3",
      "display_name": "Python 3"
    },
    "language_info": {
      "name": "python"
    }
  },
  "cells": [
    {
      "cell_type": "markdown",
      "metadata": {
        "id": "view-in-github",
        "colab_type": "text"
      },
      "source": [
        "<a href=\"https://colab.research.google.com/github/PRIESTLEY4/principos-de-de-simulacao-de-comunicacao/blob/main/Trabalho2/Exercicio_2_de_lancamento_de_5_dados.ipynb\" target=\"_parent\"><img src=\"https://colab.research.google.com/assets/colab-badge.svg\" alt=\"Open In Colab\"/></a>"
      ]
    },
    {
      "cell_type": "code",
      "execution_count": null,
      "metadata": {
        "colab": {
          "base_uri": "https://localhost:8080/"
        },
        "id": "Ujwhehz2nSO8",
        "outputId": "e24dfb85-e436-4b4e-846e-200300ad615a"
      },
      "outputs": [
        {
          "output_type": "stream",
          "name": "stdout",
          "text": [
            "598586\n",
            "0.598586\n"
          ]
        }
      ],
      "source": [
        "import numpy as np\n",
        "import matplotlib.pyplot as plt\n",
        "\n",
        "N=1000000\n",
        "#gerar N numeros inteiros aleatorios de 1 ate 6\n",
        "dado_1= np.random.randint(1,7,N)\n",
        "dado_2= np.random.randint(1,7,N)\n",
        "dado_3= np.random.randint(1,7,N)\n",
        "dado_4= np.random.randint(1,7,N)\n",
        "dado_5= np.random.randint(1,7,N)\n",
        "# inicializacao das variaveis\n",
        "i = 1\n",
        "\n",
        "quantidade = 0\n",
        "\n",
        "for i in range (0,N):\n",
        "  # Inicializacao das variaveis de contagem para cada dado\n",
        "        cont = 0\n",
        "        cont1 = 0\n",
        "        cont2 = 0\n",
        "        cont3 = 0\n",
        "        cont4 = 0\n",
        "        cont5 = 0\n",
        "# condicoes para verifiar se cada dado resultou em 6, e se a respota e sim,\n",
        "#incrementar a contagem\n",
        "        if (dado_1[i] == 6):\n",
        "                 cont1 += 1\n",
        "\n",
        "        if (dado_2[i] == 6):\n",
        "                 cont2 += 1\n",
        "\n",
        "        if (dado_3[i] == 6):\n",
        "                cont3 += 1\n",
        "\n",
        "        if (dado_4[i] == 6):\n",
        "                cont4 += 1\n",
        "\n",
        "        if (dado_5[i] == 6):\n",
        "                 cont5 += 1\n",
        "\n",
        "        cont = cont1 + cont2 + cont3 + cont4 + cont5\n",
        "\n",
        "        if (cont >=1): # verificacao se pelo menso menos um dado resultou em 6\n",
        "                       #e se a resposta e sim,incrementar a a variavel quantidade\n",
        "                quantidade += 1 #\n",
        "\n",
        "        i += 1\n",
        "\n",
        "\n",
        "print (quantidade) # imprime a quantidade de vezes que os dados resultaram 6\n",
        "\n",
        "probabilidade = quantidade/N # probabilidade de que pelo menos um dado resultou\n",
        "                               # em 6\n",
        "\n",
        "print(probabilidade)\n"
      ]
    }
  ]
}