{
  "nbformat": 4,
  "nbformat_minor": 0,
  "metadata": {
    "colab": {
      "provenance": [],
      "authorship_tag": "ABX9TyNnV3uhS+53yCIfpZiDVqUI",
      "include_colab_link": true
    },
    "kernelspec": {
      "name": "python3",
      "display_name": "Python 3"
    },
    "language_info": {
      "name": "python"
    }
  },
  "cells": [
    {
      "cell_type": "markdown",
      "metadata": {
        "id": "view-in-github",
        "colab_type": "text"
      },
      "source": [
        "<a href=\"https://colab.research.google.com/github/PRIESTLEY4/principos-de-de-simulacao-de-comunicacao/blob/main/Trabalho2/Metodo_de_importancia.ipynb\" target=\"_parent\"><img src=\"https://colab.research.google.com/assets/colab-badge.svg\" alt=\"Open In Colab\"/></a>"
      ]
    },
    {
      "cell_type": "code",
      "execution_count": null,
      "metadata": {
        "colab": {
          "base_uri": "https://localhost:8080/"
        },
        "id": "E4yhO7hc3pFK",
        "outputId": "b9264f63-5f29-4279-b0df-fdfa3293b615"
      },
      "outputs": [
        {
          "output_type": "stream",
          "name": "stdout",
          "text": [
            "0.5814525444012526\n"
          ]
        }
      ],
      "source": [
        "#a\n",
        "import numpy as np\n",
        "import matplotlib.pyplot as plt\n",
        "N=100000\n",
        "#gerar N amostras uniformes\n",
        "y= np.random.uniform(0, 1,N)\n",
        "#gerar as amostras de g(x)\n",
        "# a gente escolhou uma funcao de g(x) que quando se calcula sua integral\n",
        "# entre 0 e 1 deve ser igual a 1. essa funcao va ser nossa funcao PDF e depois\n",
        "#se calcula a integral da funcao CDF entre 0 e x para encontrar CDF,e depois\n",
        "#igualar G(x)=U para achar y\n",
        "y1= (y)**(1/3)\n",
        "y2 = 3*y1**2\n",
        "#calcular a integral\n",
        "integral=np.sum(((1-y1**2)**1.5)/(y2))/N # se faz a soma e calcula a media\n",
        "\n",
        "print(integral)"
      ]
    },
    {
      "cell_type": "code",
      "source": [
        "#b\n",
        "import numpy as np\n",
        "import matplotlib.pyplot as plt\n",
        "N=1000000\n",
        "#gerar N amostras uniformes\n",
        "y= np.random.uniform(0, 1,N)\n",
        "#gerar as amostras de g(x)\n",
        "#a gente escolhou uma funcao de g(x) que quando se calcula sua integral\n",
        "#entre -2 e 2 deve ser ser igual a 1.Essa funcao vai ser nossa funcao PDF\n",
        "# e depois se calcula a integral da funcao CDF de -2 ate x para encontrar CDF\n",
        "# e depois igualar G(x)=U para achar y\n",
        "y1= np.log((y*(np.exp(2)-np.exp(-2))+np.exp(-2)))\n",
        "y2 = ((np.exp(y1))/(np.exp(2)- np.exp(-2)))\n",
        "#calcular a integral\n",
        "\n",
        "integral=np.sum((np.exp((y1+y1**2)))/(y2))/N #se faz a soma e calcular a media\n",
        "\n",
        "print(integral)"
      ],
      "metadata": {
        "colab": {
          "base_uri": "https://localhost:8080/"
        },
        "id": "915uKe8A_A1f",
        "outputId": "7817adc1-632b-4f2b-8eca-0b471b434fc3"
      },
      "execution_count": null,
      "outputs": [
        {
          "output_type": "stream",
          "name": "stdout",
          "text": [
            "93.1224646880792\n"
          ]
        }
      ]
    },
    {
      "cell_type": "code",
      "source": [
        "#C\n",
        "import numpy as np\n",
        "import matplotlib.pyplot as plt\n",
        "\n",
        "N=1000000\n",
        "#gerar N amostras uniformes\n",
        "y=np.random.uniform(0,1,N)\n",
        "#gerar as amostras de g(x)\n",
        "# o fato que os limites dessa integral esta entre 0 e infinito,tem que resolve-\n",
        "#la de 0 ate 1.Para isso tem que aplicar monte carlo para fazer a subtituicao de\n",
        "#variaveis ,propor uma funcao de g(x) para que quando se calcule sua integral\n",
        "#enre 0 e 1 seja igual a 1,vai ser entao nossa funcao PDF e depos se calcular a\n",
        "# de PDF de 0 ate x para achar CDF e depois igualar G(x)=U para achar y\n",
        "y1 = np.sqrt(y)\n",
        "y2=2*y1\n",
        "\n",
        "integral=np.sum((((1/y1 - 1)*(1+((1/y1 - 1)**2))**(-2))/(y1**2))/(y2))/N#se\n",
        "#se calcula a soma e a media\n",
        "print(integral)"
      ],
      "metadata": {
        "colab": {
          "base_uri": "https://localhost:8080/"
        },
        "id": "3yZyqQhO0vkp",
        "outputId": "30d23a02-e5d1-46af-9e52-170653cb964e"
      },
      "execution_count": null,
      "outputs": [
        {
          "output_type": "stream",
          "name": "stdout",
          "text": [
            "0.49956487404413813\n"
          ]
        }
      ]
    },
    {
      "cell_type": "code",
      "source": [],
      "metadata": {
        "id": "DHiaBlzo5qfC"
      },
      "execution_count": null,
      "outputs": []
    }
  ]
}