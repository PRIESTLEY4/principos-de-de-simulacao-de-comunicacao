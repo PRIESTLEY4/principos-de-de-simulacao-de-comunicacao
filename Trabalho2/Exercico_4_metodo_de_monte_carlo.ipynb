{
  "nbformat": 4,
  "nbformat_minor": 0,
  "metadata": {
    "colab": {
      "provenance": [],
      "authorship_tag": "ABX9TyOAwcaffVZ6FH4Xst3w6ghy",
      "include_colab_link": true
    },
    "kernelspec": {
      "name": "python3",
      "display_name": "Python 3"
    },
    "language_info": {
      "name": "python"
    }
  },
  "cells": [
    {
      "cell_type": "markdown",
      "metadata": {
        "id": "view-in-github",
        "colab_type": "text"
      },
      "source": [
        "<a href=\"https://colab.research.google.com/github/PRIESTLEY4/principos-de-de-simulacao-de-comunicacao/blob/main/Trabalho2/Exercico_4_metodo_de_monte_carlo.ipynb\" target=\"_parent\"><img src=\"https://colab.research.google.com/assets/colab-badge.svg\" alt=\"Open In Colab\"/></a>"
      ]
    },
    {
      "cell_type": "code",
      "execution_count": null,
      "metadata": {
        "colab": {
          "base_uri": "https://localhost:8080/"
        },
        "id": "zR7w-i7iiRJZ",
        "outputId": "6be7bb59-774a-42b9-f584-a7c5043602b7"
      },
      "outputs": [
        {
          "output_type": "stream",
          "name": "stdout",
          "text": [
            "93.22967461158092\n"
          ]
        }
      ],
      "source": [
        "\n",
        "#b\n",
        "import numpy as np\n",
        "import matplotlib.pyplot as plt\n",
        "from scipy.integrate import quad\n",
        "\n",
        "\n",
        "N = 1000000\n",
        "y= np.random.uniform(0 ,1, N) # gerar  numeros aleatorios entre 0 e 1\n",
        "integral=4*sum(np.exp((-2+4*y) + (-2+4*y)**2))/N #pelo metodo de monte carlo\n",
        "#a gente converte a integral como uma integral uniforme fazendo troca de variaveis\n",
        "# se calcula a suma a faz a media\n",
        "print(integral)\n",
        "\n"
      ]
    },
    {
      "cell_type": "code",
      "source": [
        "#a\n",
        "import numpy as np\n",
        "import matplotlib.pyplot as plt\n",
        "\n",
        "\n",
        "N= 1000000\n",
        "y=np.random.uniform(0,1,N)\n",
        "integral=sum((1-y**2)**1.5)/N#como ja essa integral esta entre 0 e 1,pelo\n",
        "#metodo de monte carlo e so colocar a integral mas a ideia e ,gerar numeros\n",
        "#aleatorios entre 0 e 1 en N e calcular a media\n",
        "print(integral)\n",
        "\n"
      ],
      "metadata": {
        "colab": {
          "base_uri": "https://localhost:8080/"
        },
        "id": "DF3rjFPM2zHZ",
        "outputId": "fa315302-c47a-42c1-ffab-9e0068da3769"
      },
      "execution_count": null,
      "outputs": [
        {
          "output_type": "stream",
          "name": "stdout",
          "text": [
            "0.5894921467121801\n"
          ]
        }
      ]
    },
    {
      "cell_type": "code",
      "source": [
        "#c\n",
        "import numpy as np\n",
        "import matplotlib.pyplot as plt\n",
        "from scipy.integrate import quad\n",
        "\n",
        "\n",
        "N=1000000\n",
        "y=np.random.uniform(0,1,N)\n",
        "x=1/y - 1 # a gente realizou uma subtituicao de variaveis desse jeito quando\n",
        "#aparece o caso com limites a=0 e b=infinito para obter uma integral uniforme\n",
        "integral=sum((x*((1+x**2)**(-2)))/y**2)/N # se calcula a suma e faz a media\n",
        "#integral=sum(((1/y -1)*(1+((1/y -1)**2)**(-2))))/y**2/N\n",
        "print(integral)\n",
        "\n",
        "\n"
      ],
      "metadata": {
        "id": "twGXe0LyDXVH",
        "colab": {
          "base_uri": "https://localhost:8080/"
        },
        "outputId": "a6bebb46-7c65-475c-be26-18572f0e85f3"
      },
      "execution_count": null,
      "outputs": [
        {
          "output_type": "stream",
          "name": "stdout",
          "text": [
            "0.4998986677199429\n"
          ]
        }
      ]
    },
    {
      "cell_type": "code",
      "source": [],
      "metadata": {
        "id": "hQ1KRNINErWJ"
      },
      "execution_count": null,
      "outputs": []
    }
  ]
}